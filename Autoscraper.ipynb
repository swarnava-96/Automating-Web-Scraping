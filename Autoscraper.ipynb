{
  "nbformat": 4,
  "nbformat_minor": 0,
  "metadata": {
    "colab": {
      "name": "Autoscraper",
      "provenance": [],
      "authorship_tag": "ABX9TyP1HckGGujMrxGAGewIaHQC",
      "include_colab_link": true
    },
    "kernelspec": {
      "name": "python3",
      "display_name": "Python 3"
    },
    "language_info": {
      "name": "python"
    }
  },
  "cells": [
    {
      "cell_type": "markdown",
      "metadata": {
        "id": "view-in-github",
        "colab_type": "text"
      },
      "source": [
        "<a href=\"https://colab.research.google.com/github/swarnava-96/Automating-Web-Scraping/blob/main/Autoscraper.ipynb\" target=\"_parent\"><img src=\"https://colab.research.google.com/assets/colab-badge.svg\" alt=\"Open In Colab\"/></a>"
      ]
    },
    {
      "cell_type": "markdown",
      "metadata": {
        "id": "DnbDHBIvuLM8"
      },
      "source": [
        "# **Automating Web Scraping using autoscraper**\n",
        "\n",
        "### Installing autoscraper"
      ]
    },
    {
      "cell_type": "code",
      "metadata": {
        "colab": {
          "base_uri": "https://localhost:8080/"
        },
        "id": "ZZJAeagGuLj0",
        "outputId": "64f22b1e-3b9b-4a75-910e-4ab83a8e71f9"
      },
      "source": [
        "!pip install autoscraper"
      ],
      "execution_count": 1,
      "outputs": [
        {
          "output_type": "stream",
          "text": [
            "Collecting autoscraper\n",
            "  Downloading autoscraper-1.1.12-py3-none-any.whl (10 kB)\n",
            "Requirement already satisfied: bs4 in /usr/local/lib/python3.7/dist-packages (from autoscraper) (0.0.1)\n",
            "Requirement already satisfied: requests in /usr/local/lib/python3.7/dist-packages (from autoscraper) (2.23.0)\n",
            "Requirement already satisfied: lxml in /usr/local/lib/python3.7/dist-packages (from autoscraper) (4.2.6)\n",
            "Requirement already satisfied: beautifulsoup4 in /usr/local/lib/python3.7/dist-packages (from bs4->autoscraper) (4.6.3)\n",
            "Requirement already satisfied: idna<3,>=2.5 in /usr/local/lib/python3.7/dist-packages (from requests->autoscraper) (2.10)\n",
            "Requirement already satisfied: certifi>=2017.4.17 in /usr/local/lib/python3.7/dist-packages (from requests->autoscraper) (2021.5.30)\n",
            "Requirement already satisfied: urllib3!=1.25.0,!=1.25.1,<1.26,>=1.21.1 in /usr/local/lib/python3.7/dist-packages (from requests->autoscraper) (1.24.3)\n",
            "Requirement already satisfied: chardet<4,>=3.0.2 in /usr/local/lib/python3.7/dist-packages (from requests->autoscraper) (3.0.4)\n",
            "Installing collected packages: autoscraper\n",
            "Successfully installed autoscraper-1.1.12\n"
          ],
          "name": "stdout"
        }
      ]
    },
    {
      "cell_type": "markdown",
      "metadata": {
        "id": "3IU2fmjowUpj"
      },
      "source": [
        "### Scraping all my Github repositories title"
      ]
    },
    {
      "cell_type": "code",
      "metadata": {
        "colab": {
          "base_uri": "https://localhost:8080/"
        },
        "id": "pKFJKNJguQYm",
        "outputId": "9c0f1800-5909-4fd6-f5d1-91c4dbc75280"
      },
      "source": [
        "# Importing the library\n",
        "from autoscraper import AutoScraper\n",
        "\n",
        "# Setting my Github url to scrap the data\n",
        "url = \"https://github.com/swarnava-96?tab=repositories\"\n",
        "\n",
        "# Setting up candidates \n",
        "wanted_list = [\"Flight-Fare-Prediction\", \"Kolkata,India\"]\n",
        "\n",
        "# Initializing autoscraper\n",
        "scraper = AutoScraper()\n",
        "\n",
        "# Printing the result\n",
        "result = scraper.build(url, wanted_list)\n",
        "print(result)"
      ],
      "execution_count": 4,
      "outputs": [
        {
          "output_type": "stream",
          "text": [
            "['Automating-Web-Scraping', 'Post-pruning-Decision-Trees', 'SVM-Kernel-Trick', 'Clustering', 'Hypothesis-Testing', 'Exploratory-Data-Analysis-EDA', 'swarnava-96', 'Insurance-Fraud-Detection-MLOPS', 'Linear-Ridge-and-Lasso-Regression', 'Profit-Prediction-of-50-Startups-using-MLRM', 'Sample-Projects-SQL', 'Plotly-on-Colab', 'Pyforest', 'Vulture', 'Getting-Started-with-Python-for-Data-Science', 'Advanced-Python-for-Data-Science', 'Sample-Python-Projects', 'Cross-Validation', 'Feature-Selection', 'Feature-Engineering', 'Time-Series', 'The-Hotel-Problem-Statement-SQL-BI', 'Rainfall-Prediction', 'Spam-Classifier-NLP-ML', 'Flight-Fare-Prediction', 'Telcom-Customer-Churn-Analysis', 'Ticket-Analysis-Power-BI', 'World-GDP-in-USD-Power-BI', 'PyWebIO-Deployment', 'Customer-Churn-Analysis-Power-Bi', 'Kolkata,India']\n"
          ],
          "name": "stdout"
        }
      ]
    },
    {
      "cell_type": "markdown",
      "metadata": {
        "id": "k7HUv-YU10XM"
      },
      "source": [
        "### Creating an auto scraper model so that we can scrap similar informations"
      ]
    },
    {
      "cell_type": "code",
      "metadata": {
        "colab": {
          "base_uri": "https://localhost:8080/"
        },
        "id": "XoDLhq16vAlM",
        "outputId": "05bbae73-5303-4298-af3d-c4dcd3587300"
      },
      "source": [
        "# Setting the informations we need to scrap\n",
        "\n",
        "scraper.get_result_similar(\"https://github.com/swarnava-96?tab=repositories\", grouped = True, group_by_alias = True)"
      ],
      "execution_count": 7,
      "outputs": [
        {
          "output_type": "execute_result",
          "data": {
            "text/plain": [
              "{'Location': ['Kolkata,India'],\n",
              " 'Title': ['Automating-Web-Scraping',\n",
              "  'Post-pruning-Decision-Trees',\n",
              "  'SVM-Kernel-Trick',\n",
              "  'Clustering',\n",
              "  'Hypothesis-Testing',\n",
              "  'Exploratory-Data-Analysis-EDA',\n",
              "  'swarnava-96',\n",
              "  'Insurance-Fraud-Detection-MLOPS',\n",
              "  'Linear-Ridge-and-Lasso-Regression',\n",
              "  'Profit-Prediction-of-50-Startups-using-MLRM',\n",
              "  'Sample-Projects-SQL',\n",
              "  'Plotly-on-Colab',\n",
              "  'Pyforest',\n",
              "  'Vulture',\n",
              "  'Getting-Started-with-Python-for-Data-Science',\n",
              "  'Advanced-Python-for-Data-Science',\n",
              "  'Sample-Python-Projects',\n",
              "  'Cross-Validation',\n",
              "  'Feature-Selection',\n",
              "  'Feature-Engineering',\n",
              "  'Time-Series',\n",
              "  'The-Hotel-Problem-Statement-SQL-BI',\n",
              "  'Rainfall-Prediction',\n",
              "  'Spam-Classifier-NLP-ML',\n",
              "  'Flight-Fare-Prediction',\n",
              "  'Telcom-Customer-Churn-Analysis',\n",
              "  'Ticket-Analysis-Power-BI',\n",
              "  'World-GDP-in-USD-Power-BI',\n",
              "  'PyWebIO-Deployment',\n",
              "  'Customer-Churn-Analysis-Power-Bi']}"
            ]
          },
          "metadata": {},
          "execution_count": 7
        }
      ]
    },
    {
      "cell_type": "code",
      "metadata": {
        "id": "lWFs9o0Oy81Y"
      },
      "source": [
        "# Creating the model and saving so that we can use it in future\n",
        "\n",
        "scraper.set_rule_aliases({'rule_e5v3' : 'Location','rule_v97d' : 'Title' })\n",
        "scraper.keep_rules(['rule_e5v3', 'rule_v97d' ])\n",
        "scraper.save(\"Github Repository Search\")"
      ],
      "execution_count": 8,
      "outputs": []
    },
    {
      "cell_type": "code",
      "metadata": {
        "id": "3MSQhSQkz2h6"
      },
      "source": [
        "# Loading the model\n",
        "\n",
        "scraper.load(\"Github Repository Search\")"
      ],
      "execution_count": 9,
      "outputs": []
    },
    {
      "cell_type": "code",
      "metadata": {
        "id": "YEKo7tnq08ho"
      },
      "source": [
        "# Testing\n",
        "\n",
        "result1 = scraper.get_result_similar(\"https://github.com/swarnava-96?tab=repositories\", group_by_alias = True)"
      ],
      "execution_count": 10,
      "outputs": []
    },
    {
      "cell_type": "code",
      "metadata": {
        "colab": {
          "base_uri": "https://localhost:8080/"
        },
        "id": "9TF1YvIp1Q6z",
        "outputId": "42038b67-e787-451d-cce6-e69fc36069b2"
      },
      "source": [
        "result1[\"Title\"]"
      ],
      "execution_count": 11,
      "outputs": [
        {
          "output_type": "execute_result",
          "data": {
            "text/plain": [
              "['Automating-Web-Scraping',\n",
              " 'Post-pruning-Decision-Trees',\n",
              " 'SVM-Kernel-Trick',\n",
              " 'Clustering',\n",
              " 'Hypothesis-Testing',\n",
              " 'Exploratory-Data-Analysis-EDA',\n",
              " 'swarnava-96',\n",
              " 'Insurance-Fraud-Detection-MLOPS',\n",
              " 'Linear-Ridge-and-Lasso-Regression',\n",
              " 'Profit-Prediction-of-50-Startups-using-MLRM',\n",
              " 'Sample-Projects-SQL',\n",
              " 'Plotly-on-Colab',\n",
              " 'Pyforest',\n",
              " 'Vulture',\n",
              " 'Getting-Started-with-Python-for-Data-Science',\n",
              " 'Advanced-Python-for-Data-Science',\n",
              " 'Sample-Python-Projects',\n",
              " 'Cross-Validation',\n",
              " 'Feature-Selection',\n",
              " 'Feature-Engineering',\n",
              " 'Time-Series',\n",
              " 'The-Hotel-Problem-Statement-SQL-BI',\n",
              " 'Rainfall-Prediction',\n",
              " 'Spam-Classifier-NLP-ML',\n",
              " 'Flight-Fare-Prediction',\n",
              " 'Telcom-Customer-Churn-Analysis',\n",
              " 'Ticket-Analysis-Power-BI',\n",
              " 'World-GDP-in-USD-Power-BI',\n",
              " 'PyWebIO-Deployment',\n",
              " 'Customer-Churn-Analysis-Power-Bi']"
            ]
          },
          "metadata": {},
          "execution_count": 11
        }
      ]
    },
    {
      "cell_type": "code",
      "metadata": {
        "colab": {
          "base_uri": "https://localhost:8080/"
        },
        "id": "QbdvOao71U5P",
        "outputId": "37da1e17-c92c-4dd0-cf90-a788230afbda"
      },
      "source": [
        "result1[\"Location\"]"
      ],
      "execution_count": 12,
      "outputs": [
        {
          "output_type": "execute_result",
          "data": {
            "text/plain": [
              "['Kolkata,India']"
            ]
          },
          "metadata": {},
          "execution_count": 12
        }
      ]
    },
    {
      "cell_type": "markdown",
      "metadata": {
        "id": "OnP9sfC12eXF"
      },
      "source": [
        "So, our auto scraping model is created and we can test it with any other  Github urls."
      ]
    },
    {
      "cell_type": "code",
      "metadata": {
        "id": "toTV8pEO2mrS"
      },
      "source": [
        ""
      ],
      "execution_count": null,
      "outputs": []
    }
  ]
}